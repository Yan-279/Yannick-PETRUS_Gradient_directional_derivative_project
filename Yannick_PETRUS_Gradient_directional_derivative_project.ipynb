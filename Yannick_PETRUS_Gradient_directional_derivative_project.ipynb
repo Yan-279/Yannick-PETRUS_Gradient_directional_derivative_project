{
 "cells": [
  {
   "cell_type": "code",
   "execution_count": 2,
   "id": "71f80e77",
   "metadata": {},
   "outputs": [
    {
     "name": "stdout",
     "output_type": "stream",
     "text": [
      "Enter the x coordinate of a point in R² 3\n",
      "Enter the y coordinate of a point in R² 5\n",
      "\n",
      "Gradient of (x^3 * y) - (x * y^3) at [3.0, 5.0] is  [  10. -198.]\n",
      "Enter vector x coordinate 1\n",
      "Enter vector y coordinate 2\n",
      "\n",
      "Unit vector u' derived from u:  [0.4472136  0.89442719]\n",
      "\n",
      "The directional derivative of f at point  [3.0, 5.0]  in direction  [1. 2.]  is:  -172.6244478629834\n"
     ]
    }
   ],
   "source": [
    "import numdifftools as nd\n",
    "import numpy as np  \n",
    "\n",
    "x = float(input(\"Enter the x coordinate of a point in R² \"))\n",
    "y = float(input(\"Enter the y coordinate of a point in R² \"))\n",
    "point = [x,y]\n",
    "\n",
    "rosen = lambda x : x[0]**3 * x[1] - x[0] * x[1]**3\n",
    "grad = nd.Gradient(rosen)\n",
    "df_dx, df_dy = grad([x, y])\n",
    "grad3 = nd.Gradient(rosen)([x,y])\n",
    "print(\"\\nGradient of (x^3 * y) - (x * y^3) at\", point, \"is \", grad3)\n",
    "\n",
    "vec1 = float(input(\"Enter vector x coordinate \"))\n",
    "vec2 = float(input(\"Enter vector y coordinate \"))\n",
    "\n",
    "vector=np.array([vec1,vec2])\n",
    "unit_vector = vector / (vector**2).sum()**0.5\n",
    "print(\"\\nUnit vector u' derived from u: \", unit_vector)\n",
    "\n",
    "directional = unit_vector[0]*grad3[0] + unit_vector[1]*grad3[1]\n",
    "print(\"\\nThe directional derivative of f at point \",point,\" in direction \",vector,\" is: \",directional)"
   ]
  },
  {
   "cell_type": "code",
   "execution_count": null,
   "id": "2a47ea5a",
   "metadata": {},
   "outputs": [],
   "source": []
  }
 ],
 "metadata": {
  "kernelspec": {
   "display_name": "Python 3 (ipykernel)",
   "language": "python",
   "name": "python3"
  },
  "language_info": {
   "codemirror_mode": {
    "name": "ipython",
    "version": 3
   },
   "file_extension": ".py",
   "mimetype": "text/x-python",
   "name": "python",
   "nbconvert_exporter": "python",
   "pygments_lexer": "ipython3",
   "version": "3.9.7"
  }
 },
 "nbformat": 4,
 "nbformat_minor": 5
}
